{
 "cells": [
  {
   "cell_type": "markdown",
   "metadata": {},
   "source": [
    "### Funcion: describe_df\n",
    "\n",
    "Esta función debe recibir como argumento un dataframe y debe devolver una dataframe como el de la imagen (no el de la imagen). Es decir un dataframe que tenga una columna por cada columan del dataframe original y como filas, los tipos de las columnas, el tanto por ciento de valores nulos o missings, los valores únicos y el porcentaje de cardinalidad. "
   ]
  },
  {
   "cell_type": "code",
   "execution_count": 1,
   "metadata": {},
   "outputs": [],
   "source": [
    "import pandas as pd\n",
    "def describe_df(df):\n",
    "    '''\n",
    "    Devuelve el df con la descripción de tipo de dato por columna, \n",
    "    el tanto por ciento de valores nulos o missings, los valores \n",
    "    únicos y el porcentaje de cardinalidad.\n",
    "    \n",
    "    Argumentos:\n",
    "    df (pd.DataFrame): Dataset del que se quiere extraer la descripción.\n",
    "\n",
    "    Retorna:\n",
    "    pd.DataFrame: Retorna en el mismo formato el información del argumento df.    \n",
    "    '''\n",
    "    df_resultado = pd.DataFrame([df.dtypes, df.isna().sum()*100, df.nunique(), round(df.nunique()/len(df) * 100, 2)]) # Cardinaliad y porcentaje de variación de cardinalidad\n",
    "    df_resultado = df_resultado.rename(index= {0: \"DATA_TYPE\", 1: \"MISSINGS (%)\", 2: \"UNIQUE_VALUES\", 3: \"CARDIN (%)\"})\n",
    "    return df_resultado"
   ]
  }
 ],
 "metadata": {
  "kernelspec": {
   "display_name": "Python 3",
   "language": "python",
   "name": "python3"
  },
  "language_info": {
   "codemirror_mode": {
    "name": "ipython",
    "version": 3
   },
   "file_extension": ".py",
   "mimetype": "text/x-python",
   "name": "python",
   "nbconvert_exporter": "python",
   "pygments_lexer": "ipython3",
   "version": "3.13.0"
  }
 },
 "nbformat": 4,
 "nbformat_minor": 2
}
